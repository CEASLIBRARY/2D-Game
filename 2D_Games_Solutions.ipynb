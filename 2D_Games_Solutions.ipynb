{
  "nbformat": 4,
  "nbformat_minor": 0,
  "metadata": {
    "colab": {
      "name": "2D Games Solutions.ipynb",
      "provenance": [],
      "authorship_tag": "ABX9TyOHLU2oQjxthGq64nzDdBQo",
      "include_colab_link": true
    },
    "kernelspec": {
      "name": "python3",
      "display_name": "Python 3"
    },
    "language_info": {
      "name": "python"
    }
  },
  "cells": [
    {
      "cell_type": "markdown",
      "metadata": {
        "id": "view-in-github",
        "colab_type": "text"
      },
      "source": [
        "<a href=\"https://colab.research.google.com/github/CEASLIBRARY/2D-Game_Development_with_Python/blob/main/2D_Games_Solutions.ipynb\" target=\"_parent\"><img src=\"https://colab.research.google.com/assets/colab-badge.svg\" alt=\"Open In Colab\"/></a>"
      ]
    },
    {
      "cell_type": "markdown",
      "source": [
        "# Exercise 1\n",
        "### Change the value of screen_height so that it is influenced by the level map multiplied by the tile size"
      ],
      "metadata": {
        "id": "TkRXXqyjkd1J"
      }
    },
    {
      "cell_type": "markdown",
      "source": [
        "#### You need to know how many elements are in the list\n",
        "#### We use the len() menthod for this\n",
        "\n",
        "\n",
        "```\n",
        "screen_height = len(level_map)\n",
        "```\n",
        "#### But this would just be 10 or 11, and this can't be our screen height.\n",
        "#### So multiply by tile size\n",
        "\n",
        "```\n",
        "screen_height = len(level_map) * tile_size\n",
        "```"
      ],
      "metadata": {
        "id": "vhuWX-YEkqUB"
      }
    },
    {
      "cell_type": "markdown",
      "source": [
        "# Exercise 2\n",
        "### Update the setup_level method to place our player along with the tiles."
      ],
      "metadata": {
        "id": "4MyTZYWJlRTt"
      }
    },
    {
      "cell_type": "markdown",
      "source": [
        "\n",
        "### Don't forget to import Player.\n",
        "\n",
        "```\n",
        "from player import Player\n",
        "```\n",
        "\n",
        "#### In level.py, first you need another sprite group. Let's call it self.player\n",
        "#### Add the following statement to to set_level()\n",
        "```\n",
        "def setup_level(self, layout): \n",
        "  self.player = pygame.sprite.GroupSingle()\n",
        "```\n",
        "### In the nested for loop to do the following:\n",
        "\n",
        "```\n",
        "for row_index, row in enumerate(layout):\n",
        "            for col_index, cell in enumerate(row):\n",
        "            if cell == 'P':\n",
        "            #since x,y coordinate stay the same\n",
        "              player_sprite = Player((x,y))\n",
        "              self.player.add(player_sprite)\n",
        "```\n",
        "\n",
        "### Now, we have the player in a certain position, however we wouldn't be able to see because we haven't drawn the player.\n",
        "### So under run(self):\n",
        "\n",
        "```\n",
        "self.player.draw(self.display_surface)\n",
        "```"
      ],
      "metadata": {
        "id": "dIOULY-HwRSw"
      }
    },
    {
      "cell_type": "markdown",
      "source": [
        "# Execise 3\n",
        "\n",
        "### In the above method scroll_x() in level.py, the if conditions have constants. If our game window became larger or smaller then those wouldn't update accordingly.\n",
        "### Add some code to make the scroll border numbers responsive to width of the screen i.e replace the numbers 200 and 1000."
      ],
      "metadata": {
        "id": "prR2V4Aoy_qA"
      }
    },
    {
      "cell_type": "markdown",
      "source": [
        "### First we need the actual width of the game window. Go to settings.py and look for screen_width\n",
        "\n",
        "```\n",
        "screen_width = 1200\n",
        "```\n",
        "### Next, import screen_width from settings in the level.py file\n",
        "\n",
        "\n",
        "\n",
        "```\n",
        "from settings import tile_size, screen_width\n",
        "```\n",
        "\n",
        "### Replace 200 to screen_width/4 and 1000 to screen_width - screen_width/4\n",
        "\n",
        "###Your if condition should look like this\n",
        "\n",
        "```\n",
        "if player_x < screen_width/4 and direction_x < 0:\n",
        "                self.world_shift = 8\n",
        "                player.speed = 0\n",
        "\n",
        "elif player_x > screen_width - (screen_width/4) and direction_x > 0:\n",
        "                self.world_shift = -8\n",
        "                player.speed = 0\n",
        "\n",
        "else: # to make the level scroll along with the player\n",
        "                self.world_shift = 0\n",
        "                player.speed = 8\n",
        "```\n",
        "#### For elif, instead of the substraction you can also multiply with with (3/4)*screen_width\n"
      ],
      "metadata": {
        "id": "FCxWFRxp6JTI"
      }
    }
  ]
}